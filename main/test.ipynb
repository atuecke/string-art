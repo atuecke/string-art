{
 "cells": [
  {
   "cell_type": "code",
   "execution_count": 4,
   "metadata": {},
   "outputs": [],
   "source": [
    "import numpy as np\n",
    "from stringart.algorithm.lines import draw_line\n",
    "from stringart.preprocessing.image import resize_img, make_greyscale\n",
    "from PIL import Image\n",
    "from tqdm import tqdm\n",
    "import cupy as cp\n",
    "from numpy.lib.stride_tricks import as_strided"
   ]
  },
  {
   "cell_type": "code",
   "execution_count": 11,
   "metadata": {},
   "outputs": [
    {
     "name": "stdout",
     "output_type": "stream",
     "text": [
      "Line View: [[1. 1. 1. 1. 1. 1. 1. 1. 1. 1.]\n",
      " [1. 1. 1. 1. 1. 1. 1. 1. 1. 1.]\n",
      " [1. 1. 1. 1. 1. 1. 1. 1. 1. 1.]\n",
      " [1. 1. 1. 1. 1. 1. 1. 1. 1. 1.]\n",
      " [1. 1. 1. 1. 1. 1. 1. 1. 1. 1.]\n",
      " [1. 1. 1. 1. 1. 1. 1. 1. 1. 1.]\n",
      " [1. 1. 1. 1. 1. 1. 1. 1. 1. 1.]\n",
      " [1. 1. 1. 1. 1. 1. 1. 1. 1. 1.]\n",
      " [1. 1. 1. 1. 1. 1. 1. 1. 1. 1.]\n",
      " [1. 1. 1. 1. 1. 1. 1. 1. 1. 1.]]\n",
      "Line View: [[2. 1. 1. 1. 1. 1. 1. 1. 1. 1.]\n",
      " [1. 2. 1. 1. 1. 1. 1. 1. 1. 1.]\n",
      " [1. 1. 2. 1. 1. 1. 1. 1. 1. 1.]\n",
      " [1. 1. 1. 2. 1. 1. 1. 1. 1. 1.]\n",
      " [1. 1. 1. 1. 1. 1. 1. 1. 1. 1.]\n",
      " [1. 1. 1. 1. 1. 1. 1. 1. 1. 1.]\n",
      " [1. 1. 1. 1. 1. 1. 1. 1. 1. 1.]\n",
      " [1. 1. 1. 1. 1. 1. 1. 1. 1. 1.]\n",
      " [1. 1. 1. 1. 1. 1. 1. 1. 1. 1.]\n",
      " [1. 1. 1. 1. 1. 1. 1. 1. 1. 1.]]\n"
     ]
    }
   ],
   "source": [
    "base_image = np.ones((10, 10))\n",
    "x_coords = [0, 1, 2, 5]\n",
    "y_coords = [1, 3, 4, 6]\n",
    "\n",
    "# Calculate shape and strides for the strided view\n",
    "shape = (len(x_coords),)  # Shape of the 1D view\n",
    "strides = (base_image.strides[0] + base_image.strides[1],)  # Strides to jump to the next point\n",
    "\n",
    "# Create the strided view\n",
    "line_view = as_strided(base_image, shape=shape, strides=strides)\n",
    "\n",
    "print(\"Line View:\", base_image)\n",
    "line_view += 1\n",
    "print(\"Line View:\", base_image)"
   ]
  },
  {
   "cell_type": "code",
   "execution_count": 2,
   "metadata": {},
   "outputs": [],
   "source": [
    "img = np.array(Image.open(\"./data/tom.jpg\"))\n",
    "img = resize_img(img=img, radius=1400)\n",
    "img = make_greyscale(img=img)"
   ]
  },
  {
   "cell_type": "code",
   "execution_count": 3,
   "metadata": {},
   "outputs": [],
   "source": [
    "line = draw_line((100, 150),(1350, 1300), 0.2, mask=np.ones_like(img, dtype=bool))[0]"
   ]
  },
  {
   "cell_type": "code",
   "execution_count": 4,
   "metadata": {},
   "outputs": [],
   "source": [
    "mask = np.zeros_like(img, dtype=bool)\n",
    "x_coords = line[:, 0]\n",
    "y_coords = line[:, 1]\n",
    "mask[x_coords, y_coords] = True"
   ]
  },
  {
   "cell_type": "code",
   "execution_count": 15,
   "metadata": {},
   "outputs": [
    {
     "name": "stderr",
     "output_type": "stream",
     "text": [
      "100%|██████████| 10000/10000 [00:00<00:00, 43010.83it/s]\n"
     ]
    }
   ],
   "source": [
    "for _ in tqdm(range(10000)):\n",
    "    testvar = img[x_coords, y_coords]\n",
    "    #testvar = img*img-img"
   ]
  },
  {
   "cell_type": "code",
   "execution_count": 6,
   "metadata": {},
   "outputs": [],
   "source": [
    "cp_img = cp.array(img)\n",
    "cp_line = cp.array(line)\n",
    "cp_x_coords = cp.array(line[:, 0])\n",
    "cp_y_coords = cp.array(line[:, 1])"
   ]
  },
  {
   "cell_type": "code",
   "execution_count": 16,
   "metadata": {},
   "outputs": [
    {
     "name": "stderr",
     "output_type": "stream",
     "text": [
      "100%|██████████| 10000/10000 [00:00<00:00, 12307.71it/s]\n"
     ]
    }
   ],
   "source": [
    "for _ in tqdm(range(10000)):\n",
    "    testvar = cp_img[cp_x_coords, cp_y_coords]\n",
    "    #testvar = cp_img*cp_img-cp_img"
   ]
  },
  {
   "cell_type": "code",
   "execution_count": 29,
   "metadata": {},
   "outputs": [
    {
     "name": "stdout",
     "output_type": "stream",
     "text": [
      "[1, 2]\n",
      "[7, 8]\n"
     ]
    }
   ],
   "source": [
    "parent_arr = [[1,2], [3,4], [5,6]]\n",
    "child_arr = parent_arr[0]\n",
    "print(child_arr)\n",
    "parent_arr[0][:] = [7,8]\n",
    "print(child_arr)"
   ]
  },
  {
   "cell_type": "code",
   "execution_count": 4,
   "metadata": {},
   "outputs": [
    {
     "name": "stdout",
     "output_type": "stream",
     "text": [
      "[[[1], [2], [3]], [[4], [5], [6]]]\n",
      "[[[1], [2], [9]], [[4], [5], [6]]]\n"
     ]
    }
   ],
   "source": [
    "condensed_arr = [[1], [2], [3], [4], [5], [6]]\n",
    "uncon_arr = [[condensed_arr[0], condensed_arr[1], condensed_arr[2]], [condensed_arr[3], condensed_arr[4], condensed_arr[5]]]\n",
    "print(uncon_arr)\n",
    "condensed_arr[2][0] = 9\n",
    "print(uncon_arr)"
   ]
  }
 ],
 "metadata": {
  "kernelspec": {
   "display_name": "stringart",
   "language": "python",
   "name": "python3"
  },
  "language_info": {
   "codemirror_mode": {
    "name": "ipython",
    "version": 3
   },
   "file_extension": ".py",
   "mimetype": "text/x-python",
   "name": "python",
   "nbconvert_exporter": "python",
   "pygments_lexer": "ipython3",
   "version": "3.11.5"
  }
 },
 "nbformat": 4,
 "nbformat_minor": 2
}
