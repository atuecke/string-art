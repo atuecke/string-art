{
 "cells": [
  {
   "cell_type": "code",
   "execution_count": 1,
   "metadata": {},
   "outputs": [],
   "source": [
    "import numpy as np\n",
    "from PIL import Image\n",
    "import matplotlib.pyplot as plt\n",
    "import time\n",
    "from tqdm.notebook import tqdm\n",
    "from math import comb\n",
    "import math\n",
    "import os\n",
    "import json\n",
    "from pathlib import Path\n",
    "import pickle\n",
    "from utils import StringArt\n",
    "import importlib"
   ]
  },
  {
   "cell_type": "code",
   "execution_count": 2,
   "metadata": {},
   "outputs": [],
   "source": [
    "NUM_ANCHORS = 288 #Number of anchors around the circle\n",
    "LINE_DARKNESS = 0.2  #Brightness of the center of each line\n",
    "IMG_PATH = \"../data/upscaled.png\"\n",
    "NUM_LINES = 6000\n",
    "OUTPUT_PATH = \"../outputs/testall_medium.jpg\""
   ]
  },
  {
   "cell_type": "code",
   "execution_count": 3,
   "metadata": {},
   "outputs": [],
   "source": [
    "art = StringArt(image_path=IMG_PATH, num_anchors=NUM_ANCHORS, line_darkness=LINE_DARKNESS, num_lines=NUM_LINES)"
   ]
  },
  {
   "cell_type": "code",
   "execution_count": 4,
   "metadata": {},
   "outputs": [
    {
     "name": "stdout",
     "output_type": "stream",
     "text": [
      "Preprocessing Image\n",
      "Creating Anchors\n",
      "Creating Circle Mask\n",
      "Starting benchmark for line dict\n",
      "Done! Generated 2 anchor lines on a canvas of size of 1232 in 320.2 milliseconds. Estimated time for generating line dict is about 45.9 seconds\n",
      "Generating line dict\n"
     ]
    },
    {
     "name": "stderr",
     "output_type": "stream",
     "text": [
      "Creating Lines: 100%|██████████| 288/288 [00:44<00:00,  6.47it/s]\n"
     ]
    },
    {
     "name": "stdout",
     "output_type": "stream",
     "text": [
      "Done!\n",
      "Making string art dict\n",
      "Making difference dict\n",
      "Starting benchmark for string art\n",
      "Done! Found the best line out of 287 anchors lines on a canvas of size of 1232x1232 in 28.7 milliseconds. Estimated time for finding all lines is 172.4 seconds\n",
      "Creating string art\n"
     ]
    },
    {
     "name": "stderr",
     "output_type": "stream",
     "text": [
      "Drawing Line: 100%|██████████| 6000/6000 [02:27<00:00, 40.75it/s]\n"
     ]
    },
    {
     "name": "stdout",
     "output_type": "stream",
     "text": [
      "Saving output to ../outputs/testall_medium.jpg\n",
      "Done!\n"
     ]
    }
   ],
   "source": [
    "art.run_all(save_dir=OUTPUT_PATH)"
   ]
  }
 ],
 "metadata": {
  "kernelspec": {
   "display_name": "stringart",
   "language": "python",
   "name": "python3"
  },
  "language_info": {
   "codemirror_mode": {
    "name": "ipython",
    "version": 3
   },
   "file_extension": ".py",
   "mimetype": "text/x-python",
   "name": "python",
   "nbconvert_exporter": "python",
   "pygments_lexer": "ipython3",
   "version": "3.11.4"
  },
  "orig_nbformat": 4
 },
 "nbformat": 4,
 "nbformat_minor": 2
}
