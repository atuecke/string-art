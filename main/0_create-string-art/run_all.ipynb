{
 "cells": [
  {
   "cell_type": "code",
   "execution_count": 5,
   "metadata": {},
   "outputs": [],
   "source": [
    "import numpy as np\n",
    "from PIL import Image\n",
    "import matplotlib.pyplot as plt\n",
    "import time\n",
    "from tqdm.notebook import tqdm\n",
    "from math import comb\n",
    "import math\n",
    "import os\n",
    "import json\n",
    "from pathlib import Path\n",
    "import pickle\n",
    "from utils import StringArt\n",
    "import importlib"
   ]
  },
  {
   "cell_type": "code",
   "execution_count": 6,
   "metadata": {},
   "outputs": [],
   "source": [
    "NUM_ANCHORS = 288 #Number of anchors around the circle\n",
    "LINE_DARKNESS = 0.2  #Brightness of the center of each line\n",
    "IMG_PATH = \"../data/upscaled.png\"\n",
    "NUM_LINES = 6000\n",
    "OUTPUT_PATH = \"../outputs/testall_medium.jpg\""
   ]
  },
  {
   "cell_type": "code",
   "execution_count": 7,
   "metadata": {},
   "outputs": [],
   "source": [
    "art = StringArt(image_path=IMG_PATH, num_anchors=NUM_ANCHORS, line_darkness=LINE_DARKNESS, num_lines=NUM_LINES)"
   ]
  },
  {
   "cell_type": "code",
   "execution_count": 8,
   "metadata": {},
   "outputs": [
    {
     "name": "stdout",
     "output_type": "stream",
     "text": [
      "Preprocessing Image\n",
      "Creating Anchors\n",
      "Creating Circle Mask\n",
      "Starting benchmark for line dict\n",
      "Done! Generated 288 anchor lines on a canvas of size of 1232 in 320.6 milliseconds. Estimated time for generating line dict is about 46.0 seconds\n",
      "Generating line dict\n"
     ]
    },
    {
     "name": "stderr",
     "output_type": "stream",
     "text": [
      "Creating Lines:   2%|▏         | 5/288 [00:01<01:43,  2.73it/s]\n"
     ]
    },
    {
     "ename": "KeyboardInterrupt",
     "evalue": "",
     "output_type": "error",
     "traceback": [
      "\u001b[1;31m---------------------------------------------------------------------------\u001b[0m",
      "\u001b[1;31mKeyboardInterrupt\u001b[0m                         Traceback (most recent call last)",
      "Cell \u001b[1;32mIn[8], line 1\u001b[0m\n\u001b[1;32m----> 1\u001b[0m art\u001b[39m.\u001b[39;49mrun_all(save_dir\u001b[39m=\u001b[39;49mOUTPUT_PATH)\n",
      "File \u001b[1;32me:\\string-art\\main\\0_create-string-art\\utils.py:448\u001b[0m, in \u001b[0;36mStringArt.run_all\u001b[1;34m(self, save_dir)\u001b[0m\n\u001b[0;32m    446\u001b[0m \u001b[39mself\u001b[39m\u001b[39m.\u001b[39mbenchmark_line_dict()\n\u001b[0;32m    447\u001b[0m \u001b[39mprint\u001b[39m(\u001b[39m\"\u001b[39m\u001b[39mGenerating line dict\u001b[39m\u001b[39m\"\u001b[39m)\n\u001b[1;32m--> 448\u001b[0m \u001b[39mself\u001b[39;49m\u001b[39m.\u001b[39;49mmake_line_dict()\n\u001b[0;32m    449\u001b[0m \u001b[39mprint\u001b[39m(\u001b[39m\"\u001b[39m\u001b[39mMaking string art dict\u001b[39m\u001b[39m\"\u001b[39m)\n\u001b[0;32m    450\u001b[0m \u001b[39mself\u001b[39m\u001b[39m.\u001b[39mcreate_string_art_img()\n",
      "File \u001b[1;32me:\\string-art\\main\\0_create-string-art\\utils.py:304\u001b[0m, in \u001b[0;36mStringArt.make_line_dict\u001b[1;34m(self)\u001b[0m\n\u001b[0;32m    302\u001b[0m both_anchors \u001b[39m=\u001b[39m \u001b[39mtuple\u001b[39m(\u001b[39msorted\u001b[39m((start_anchor, end_anchor))) \u001b[39m#Sorts the indices for the lines.\u001b[39;00m\n\u001b[0;32m    303\u001b[0m \u001b[39mif\u001b[39;00m both_anchors \u001b[39mnot\u001b[39;00m \u001b[39min\u001b[39;00m line_pixel_dict: \u001b[39m#Makes sure that the anchors aren't already in the dictionary, only in a different order. This makes the number of lines needed n choose 2.\u001b[39;00m\n\u001b[1;32m--> 304\u001b[0m     pixel_list, darkness_list \u001b[39m=\u001b[39m \u001b[39mself\u001b[39;49m\u001b[39m.\u001b[39;49mdraw_line(both_anchors[\u001b[39m0\u001b[39;49m], both_anchors[\u001b[39m1\u001b[39;49m], \u001b[39mself\u001b[39;49m\u001b[39m.\u001b[39;49mline_darkness, \u001b[39mself\u001b[39;49m\u001b[39m.\u001b[39;49mmask) \u001b[39m#Draws the line\u001b[39;00m\n\u001b[0;32m    305\u001b[0m     line_pixel_dict[both_anchors] \u001b[39m=\u001b[39m pixel_list\n\u001b[0;32m    306\u001b[0m     line_darkness_dict[both_anchors] \u001b[39m=\u001b[39m darkness_list\n",
      "File \u001b[1;32me:\\string-art\\main\\0_create-string-art\\utils.py:256\u001b[0m, in \u001b[0;36mStringArt.draw_line\u001b[1;34m(self, p0, p1, multiplier, mask)\u001b[0m\n\u001b[0;32m    254\u001b[0m             \u001b[39mpass\u001b[39;00m\n\u001b[0;32m    255\u001b[0m     intery \u001b[39m+\u001b[39m\u001b[39m=\u001b[39m gradient\n\u001b[1;32m--> 256\u001b[0m \u001b[39mreturn\u001b[39;00m np\u001b[39m.\u001b[39marray(pixel_list), np\u001b[39m.\u001b[39marray(darkness_list)\n",
      "\u001b[1;31mKeyboardInterrupt\u001b[0m: "
     ]
    }
   ],
   "source": [
    "art.run_all(save_dir=OUTPUT_PATH)"
   ]
  }
 ],
 "metadata": {
  "kernelspec": {
   "display_name": "stringart",
   "language": "python",
   "name": "python3"
  },
  "language_info": {
   "codemirror_mode": {
    "name": "ipython",
    "version": 3
   },
   "file_extension": ".py",
   "mimetype": "text/x-python",
   "name": "python",
   "nbconvert_exporter": "python",
   "pygments_lexer": "ipython3",
   "version": "3.11.4"
  },
  "orig_nbformat": 4
 },
 "nbformat": 4,
 "nbformat_minor": 2
}
